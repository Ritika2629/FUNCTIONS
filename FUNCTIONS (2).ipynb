{
  "nbformat": 4,
  "nbformat_minor": 0,
  "metadata": {
    "colab": {
      "provenance": []
    },
    "kernelspec": {
      "name": "python3",
      "display_name": "Python 3"
    },
    "language_info": {
      "name": "python"
    }
  },
  "cells": [
    {
      "cell_type": "markdown",
      "source": [
        "**Theary Questions**"
      ],
      "metadata": {
        "id": "W1hiFiRuE5Zd"
      }
    },
    {
      "cell_type": "markdown",
      "source": [
        "#1.What is the difference between a function and a method in Python?"
      ],
      "metadata": {
        "id": "IHdP0zyHFLoA"
      }
    },
    {
      "cell_type": "code",
      "source": [
        "In Python, the terms function and method refer to similar concepts, but they have key differences:\n",
        "\n",
        "1. Function:\n",
        "- A function is a block of code that is defined to perform a specific task.\n",
        "- It can be defined globally or within another function.\n",
        "- Functions are called using their name followed by parentheses, which may include arguments.\n",
        "- Functions are not bound to any object.\n",
        "Example:\n",
        "python\n",
        "Copy code\n",
        "# Defining a function\n",
        "def greet(name):\n",
        "    return f\"Hello, {name}!\"\n",
        "\n",
        "# Calling the function\n",
        "print(greet(\"Alice\"))\n",
        "\n",
        "2. Method:\n",
        "- A method is a function that is associated with an object and is bound to the object.\n",
        "- Methods are typically called on instances of a class (objects).\n",
        "- Methods are defined inside a class and are used to operate on objects of that class.\n",
        "- The first parameter of a method is always self, which refers to the instance of the class.\n",
        "Example:\n",
        "python\n",
        "Copy code\n",
        "# Defining a class with a method\n",
        "class Person:\n",
        "    def __init__(self, name):\n",
        "        self.name = name\n",
        "\n",
        "    def greet(self):\n",
        "        return f\"Hello, {self.name}!\"\n",
        "\n",
        "# Creating an instance of the class\n",
        "person = Person(\"Alice\")\n",
        "\n",
        "# Calling the method\n",
        "print(person.greet())\n",
        "\n",
        "#Key Differences:\n",
        "1.Binding:\n",
        "\n",
        "- A function is independent and not tied to any object.\n",
        "- A method is bound to an object (or class).\n",
        "\n",
        "2.Calling:\n",
        "\n",
        "- A function is called by its name: function_name().\n",
        "- A method is called on an object: object.method().\n",
        "\n",
        "3.Definition:\n",
        "\n",
        "- A function can be defined globally or locally.\n",
        "- A method is always defined within a class.\n",
        "\n",
        "#Summary:\n",
        "- Functions are standalone blocks of code, while methods are functions that are associated with objects or classes."
      ],
      "metadata": {
        "id": "m2IXO6m5G2e8"
      },
      "execution_count": null,
      "outputs": []
    },
    {
      "cell_type": "markdown",
      "source": [
        "#2. Explain the concept of function arguments and parameters in Python."
      ],
      "metadata": {
        "id": "ZpPKxRkGIKsK"
      }
    },
    {
      "cell_type": "code",
      "source": [
        "In Python, function arguments and parameters are essential concepts used to pass and receive information when calling functions.\n",
        "\n",
        "1. Parameters:\n",
        "- Parameters are the variables defined in a function’s signature that specify what kind of data the function will receive when called.\n",
        "- They act as placeholders for the values that will be passed into the function when it is called.\n",
        "\n",
        "#Example of parameters:\n",
        "python\n",
        "Copy code\n",
        "def greet(name, age):\n",
        "    print(f\"Hello {name}, you are {age} years old.\")\n",
        "\n",
        "In this example:\n",
        "\n",
        "- name and age are parameters of the greet function. They define what kind of values the function expects.\n",
        "\n",
        "2. Arguments:\n",
        "- Arguments are the actual values or data that are passed to the function when it is called. These values are assigned to the parameters of the function.\n",
        "- When calling the function, you provide arguments in place of the parameters.\n",
        "\n",
        "#Example of arguments:\n",
        "python\n",
        "Copy code\n",
        "greet(\"Alice\", 30)\n",
        "In this example:\n",
        "\n",
        "- \"Alice\" and 30 are arguments passed to the function greet. The argument \"Alice\" will be assigned to the name parameter, and 30 will be assigned to the age parameter.\n",
        "\n",
        "#Types of Arguments in Python:\n",
        "1.Positional Arguments:\n",
        "\n",
        "- Arguments are passed in the order they are defined in the function.\n",
        "python\n",
        "Copy code\n",
        "def add(a, b):\n",
        "    return a + b\n",
        "\n",
        "print(add(3, 5))  # Output: 8\n",
        "In this case, 3 is passed to a and 5 to b.\n",
        "\n",
        "2.Keyword Arguments:\n",
        "\n",
        "- You can specify the parameter names when passing arguments, making the code more readable and allowing the arguments to be passed in any order.\n",
        "python\n",
        "Copy code\n",
        "def greet(name, age):\n",
        "    print(f\"Hello {name}, you are {age} years old.\")\n",
        "\n",
        "greet(age=30, name=\"Alice\")\n",
        "Here, the order doesn't matter because the arguments are passed as name=\"Alice\" and age=30.\n",
        "\n",
        "3.Default Arguments:\n",
        "\n",
        "- You can provide default values for parameters. If the argument is not provided when calling the function, the default value is used.\n",
        "python\n",
        "Copy code\n",
        "def greet(name, age=25):\n",
        "    print(f\"Hello {name}, you are {age} years old.\")\n",
        "\n",
        "greet(\"Alice\")  # Uses the default age 25\n",
        "greet(\"Bob\", 30)  # Uses the provided age 30\n",
        "In this case, age defaults to 25 if not specified.\n",
        "\n",
        "4.Variable-Length Arguments:\n",
        "\n",
        "- Sometimes, you may not know in advance how many arguments will be passed. Python allows you to pass a variable number of arguments using *args (for positional arguments) and **kwargs (for keyword arguments).\n",
        "\n",
        "- *args allows passing a variable number of positional arguments as a tuple.\n",
        "\n",
        "python\n",
        "Copy code\n",
        "def sum_all(*args):\n",
        "    return sum(args)\n",
        "\n",
        "print(sum_all(1, 2, 3, 4))  # Output: 10\n",
        "\n",
        "- **kwargs allows passing a variable number of keyword arguments as a dictionary.\n",
        "\n",
        "python\n",
        "Copy code\n",
        "def display_info(**kwargs):\n",
        "    for key, value in kwargs.items():\n",
        "        print(f\"{key}: {value}\")\n",
        "\n",
        "display_info(name=\"Alice\", age=30)\n",
        "\n",
        "Output:\n",
        "\n",
        "makefile\n",
        "Copy code\n",
        "name: Alice\n",
        "age: 30\n",
        "\n",
        "#Summary of Key Points:\n",
        "- Parameters are the placeholders in the function definition.\n",
        "- Arguments are the actual values passed to the function when it is called.\n",
        "- Python allows flexible function argument passing using positional, keyword, default, and variable-length arguments.\n",
        "By understanding these concepts, you can effectively design and work with functions in Python, making your code more modular and reusable."
      ],
      "metadata": {
        "id": "f79k-2Q-Ih8m"
      },
      "execution_count": null,
      "outputs": []
    },
    {
      "cell_type": "markdown",
      "source": [
        "#3. What are the different ways to define and call a function in Python?"
      ],
      "metadata": {
        "id": "8KnijUdiM3Ng"
      }
    },
    {
      "cell_type": "code",
      "source": [
        "In Python, functions are defined using the def keyword, and they can be called in various ways based on the structure and type of the function. Let's explore different ways to define and call functions:\n",
        "\n",
        "1. Defining a Simple Function\n",
        "A basic function is defined using the def keyword, followed by the function name and parameters in parentheses. The function body is indented.\n",
        "\n",
        "Example:\n",
        "python\n",
        "Copy code\n",
        "def greet():\n",
        "    print(\"Hello, World!\")\n",
        "\n",
        "#Calling the Function:\n",
        "To call the function, simply use its name followed by parentheses:\n",
        "\n",
        "python\n",
        "Copy code\n",
        "greet()  # Output: Hello, World!\n",
        "\n",
        "2. Function with Parameters\n",
        "You can define a function with parameters that accept input when calling the function.\n",
        "\n",
        "Example:\n",
        "python\n",
        "Copy code\n",
        "def greet(name):\n",
        "    print(f\"Hello, {name}!\")\n",
        "\n",
        "#Calling the Function with Arguments:\n",
        "python\n",
        "Copy code\n",
        "greet(\"Alice\")  # Output: Hello, Alice!\n",
        "\n",
        "3. Function with Return Value\n",
        "A function can return a value using the return keyword. This allows you to use the result of the function in your code.\n",
        "\n",
        "Example:\n",
        "python\n",
        "Copy code\n",
        "def add(a, b):\n",
        "    return a + b\n",
        "\n",
        "#Calling the Function and Using the Return Value:\n",
        "python\n",
        "Copy code\n",
        "result = add(3, 5)\n",
        "print(result)  # Output: 8\n",
        "\n",
        "4. Function with Default Parameters\n",
        "You can specify default values for parameters. If an argument is not passed for a parameter, the default value is used.\n",
        "\n",
        "Example:\n",
        "python\n",
        "Copy code\n",
        "def greet(name, age=25):\n",
        "    print(f\"Hello, {name}! You are {age} years old.\")\n",
        "\n",
        "#Calling the Function:\n",
        "python\n",
        "Copy code\n",
        "greet(\"Alice\")  # Output: Hello, Alice! You are 25 years old.\n",
        "greet(\"Bob\", 30)  # Output: Hello, Bob! You are 30 years old.\n",
        "\n",
        "5. Function with Variable-Length Arguments (*args and **kwargs)\n",
        "You can define functions that accept a variable number of arguments using *args for positional arguments and **kwargs for keyword arguments.\n",
        "\n",
        "Example with *args (positional arguments):\n",
        "python\n",
        "Copy code\n",
        "def sum_all(*args):\n",
        "    return sum(args)\n",
        "\n",
        "#Calling the Function with Multiple Arguments:\n",
        "python\n",
        "Copy code\n",
        "result = sum_all(1, 2, 3, 4)\n",
        "print(result)  # Output: 10\n",
        "\n",
        "#Example with **kwargs (keyword arguments):\n",
        "python\n",
        "Copy code\n",
        "def display_info(**kwargs):\n",
        "    for key, value in kwargs.items():\n",
        "        print(f\"{key}: {value}\")\n",
        "\n",
        "#Calling the Function with Keyword Arguments:\n",
        "python\n",
        "Copy code\n",
        "display_info(name=\"Alice\", age=30)\n",
        "Output:\n",
        "\n",
        "makefile\n",
        "Copy code\n",
        "name: Alice\n",
        "age: 30\n",
        "\n",
        "6. Lambda Functions (Anonymous Functions)\n",
        "A lambda function is a small anonymous function defined using the lambda keyword. It is useful for simple operations that can be written in a single line.\n",
        "\n",
        "Example:\n",
        "python\n",
        "Copy code\n",
        "# Defining a lambda function\n",
        "multiply = lambda x, y: x * y\n",
        "\n",
        "#Calling the Lambda Function:\n",
        "python\n",
        "Copy code\n",
        "result = multiply(3, 4)\n",
        "print(result)  # Output: 12\n",
        "\n",
        "7. Function Defined Inside Another Function (Nested Function)\n",
        "You can define a function inside another function. The inner function is called a nested function.\n",
        "\n",
        "Example:\n",
        "python\n",
        "Copy code\n",
        "def outer_function():\n",
        "    def inner_function():\n",
        "        print(\"This is the inner function.\")\n",
        "    inner_function()\n",
        "\n",
        "#Calling the Nested Function:\n",
        "python\n",
        "Copy code\n",
        "outer_function()  # Output: This is the inner function.\n",
        "\n",
        "8. Function as a Return Value\n",
        "Functions can return other functions as values. This is commonly used in decorators and higher-order functions.\n",
        "\n",
        "Example:\n",
        "python\n",
        "Copy code\n",
        "def outer_function():\n",
        "    def inner_function():\n",
        "        return \"Hello from the inner function!\"\n",
        "    return inner_function\n",
        "\n",
        "#Calling the Function Returned by Another Function:\n",
        "python\n",
        "Copy code\n",
        "new_func = outer_function()\n",
        "print(new_func())  # Output: Hello from the inner function!\n",
        "\n",
        "#Summary of Ways to Define and Call Functions:\n",
        "- Simple function: Defined using def and called with parentheses.\n",
        "- Function with parameters: Accepts arguments when called.\n",
        "- Function with return value: Returns a value back to the caller.\n",
        "- Function with default parameters: Parameters have default values.\n",
        "- Variable-length arguments (*args, **kwargs): Accepts an arbitrary number of arguments.\n",
        "- Lambda functions: Anonymous functions defined with lambda.\n",
        "- Nested functions: Functions defined inside other functions.\n",
        "- Functions as return values: A function that returns another function.\n",
        "- By understanding these methods, you can define and call functions flexibly, making your code more modular, reusable, and efficient."
      ],
      "metadata": {
        "id": "dnbJh5AgNYNR"
      },
      "execution_count": null,
      "outputs": []
    },
    {
      "cell_type": "markdown",
      "source": [
        "#4. What is the purpose of the `return` statement in a Python function?"
      ],
      "metadata": {
        "id": "StqtjiIjPeso"
      }
    },
    {
      "cell_type": "code",
      "source": [
        "The return statement in a Python function serves the following key purposes:\n",
        "\n",
        "1. Returning a Value from the Function:\n",
        "- The primary purpose of the return statement is to send a value back from the function to the caller.\n",
        "- When the return statement is executed, the function terminates, and the value specified after return is sent back to the calling code.\n",
        "- This allows functions to perform calculations or operations and return the result for further use.\n",
        "Example:\n",
        "python\n",
        "Copy code\n",
        "def add(a, b):\n",
        "    return a + b\n",
        "\n",
        "result = add(3, 5)  # The return value (8) is assigned to 'result'\n",
        "print(result)  # Output: 8\n",
        "\n",
        "2. Exiting the Function Early:\n",
        "- The return statement can be used to exit a function prematurely, skipping the remaining code in the function.\n",
        "- This is especially useful when you want to stop the function execution under certain conditions.\n",
        "Example:\n",
        "python\n",
        "Copy code\n",
        "def divide(a, b):\n",
        "    if b == 0:\n",
        "        return \"Error: Division by zero\"\n",
        "    return a / b\n",
        "\n",
        "print(divide(10, 2))  # Output: 5.0\n",
        "print(divide(10, 0))  # Output: Error: Division by zero\n",
        "In this case, when b is 0, the function returns early with an error message, preventing division by zero.\n",
        "\n",
        "3. Returning None (Implicitly or Explicitly):\n",
        "- If a function does not have a return statement, or if the return statement does not specify a value, Python automatically returns None.\n",
        "- This allows functions to perform actions without explicitly returning a value.\n",
        "#Example (without return):\n",
        "python\n",
        "Copy code\n",
        "def greet(name):\n",
        "    print(f\"Hello, {name}!\")\n",
        "\n",
        "result = greet(\"Alice\")  # Output: Hello, Alice!\n",
        "print(result)  # Output: None\n",
        "In this case, since there is no return statement in the greet function, it implicitly returns None.\n",
        "\n",
        "4. Returning Multiple Values:\n",
        "- A function can return multiple values, which are packed into a tuple by default. This is useful when you want to return more than one result from a function.\n",
        "Example:\n",
        "python\n",
        "Copy code\n",
        "def get_coordinates():\n",
        "    x = 5\n",
        "    y = 10\n",
        "    return x, y  # Multiple values returned as a tuple\n",
        "\n",
        "coordinates = get_coordinates()\n",
        "print(coordinates)  # Output: (5, 10)\n",
        "Here, the return statement returns both x and y as a tuple.\n",
        "\n",
        "#Summary:\n",
        "- Returns a value: The return statement is used to send a result back to the caller.\n",
        "- Exits the function early: It can stop the function's execution and return a result immediately.\n",
        "- Implicit None: If no return statement is used, or if no value is specified, Python implicitly returns None.\n",
        "- Multiple values: You can return multiple values, which will be packaged into a tuple.\n",
        "The return statement is crucial for allowing functions to produce results and control their flow effectively."
      ],
      "metadata": {
        "id": "JvHMKvuIPwek"
      },
      "execution_count": null,
      "outputs": []
    },
    {
      "cell_type": "markdown",
      "source": [
        "#5. What are iterators in Python and how do they differ from iterables?\n",
        "\n"
      ],
      "metadata": {
        "id": "C7AaOVhuQzdU"
      }
    },
    {
      "cell_type": "code",
      "source": [
        "#Iterators vs Iterables in Python\n",
        "In Python, iterators and iterables are related concepts that are used in looping structures like for loops, but they have distinct differences. Let’s explore both:\n",
        "\n",
        "1. Iterable:\n",
        "- An iterable is any object in Python that can return an iterator. Essentially, an iterable is an object that supports the iter method.\n",
        "- An iterable object can be looped over using a for loop, and it can be passed to functions like iter().\n",
        "- Common examples of iterables are lists, tuples, strings, sets, and dictionaries.\n",
        "#How to recognize an iterable:\n",
        "- An object is iterable if it implements the __iter__() method, which returns an iterator.\n",
        "- Alternatively, it may implement the __getitem__() method to allow indexed access.\n",
        "\n",
        "Example of an iterable:\n",
        "python\n",
        "Copy code\n",
        "# List is an iterable\n",
        "numbers = [1, 2, 3, 4]\n",
        "\n",
        "# We can loop through it in a for loop\n",
        "for num in numbers:\n",
        "    print(num)\n",
        "- Here, the list numbers is an iterable. The for loop iterates over it.\n",
        "\n",
        "2. Iterator:\n",
        "- An iterator is an object that represents a stream of data; it can be used to iterate over an iterable one element at a time.\n",
        "- An iterator implements two main methods:\n",
        "- __iter__(): Returns the iterator object itself (this allows the iterator to be used in for loops).\n",
        "- __next__(): Returns the next item from the container. Once all items are exhausted, it raises the StopIteration exception to signal that the iteration is complete.\n",
        "\n",
        "#How to recognize an iterator:\n",
        "- An iterator is any object that implements both the __iter__() and __next__() methods.\n",
        "\n",
        "#Example of an iterator:\n",
        "python\n",
        "Copy code\n",
        "# Creating an iterator from a list\n",
        "numbers = [1, 2, 3, 4]\n",
        "numbers_iter = iter(numbers)\n",
        "\n",
        "# Iterating manually using next()\n",
        "print(next(numbers_iter))  # Output: 1\n",
        "print(next(numbers_iter))  # Output: 2\n",
        "print(next(numbers_iter))  # Output: 3\n",
        "print(next(numbers_iter))  # Output: 4\n",
        "\n",
        "# This will raise StopIteration\n",
        "# print(next(numbers_iter))  # Uncommenting will raise StopIteration\n",
        "- The list numbers is an iterable, and numbers_iter is an iterator created from that iterable using the iter() function.\n",
        "\n",
        "#Key Differences Between Iterators and Iterables:\n",
        "Feature\t                    Iterable\t                                                              Iterator\n",
        "\n",
        "Definition\t           An object that can be iterated over (e.g., list, tuple, string)\t    An object that keeps track of the state during iteration and returns elements one by one\n",
        "Methods\t               Implements __iter__()\t                                              Implements __iter__() and __next__()\n",
        "Use\t                   Can be passed to iter() to obtain an iterator\t                      Used to iterate over data using next() or in a loop\n",
        "Example\t               List, Tuple, Set, String, Dictionary\t                                A list iterator or any object returned by iter()\n",
        "\n",
        "#Summary:\n",
        "- Iterables are objects that can be iterated over (e.g., lists, tuples, strings). They support the __iter__() method and can be used to create an iterator.\n",
        "- Iterators are objects that keep track of the current state of the iteration and provide the next element when next() is called. They implement both __iter__() and __next__() methods.\n",
        "\n",
        "In practical terms:\n",
        "\n",
        "- Iterables are things like lists, and iterators are the objects that are created when you call iter() on those iterables.\n"
      ],
      "metadata": {
        "id": "bg1V5lMEQ_Li"
      },
      "execution_count": null,
      "outputs": []
    },
    {
      "cell_type": "markdown",
      "source": [
        "#6. Explain the concept of generators in Python and how they are defined ?"
      ],
      "metadata": {
        "id": "_vOc4QPWSyzP"
      }
    },
    {
      "cell_type": "code",
      "source": [
        "#Generators in Python\n",
        "A generator in Python is a special type of iterator that allows you to iterate over a sequence of values lazily, meaning it generates values on-the-fly as they are requested, instead of storing all values in memory. This makes generators more memory-efficient, especially for large datasets or infinite sequences.\n",
        "\n",
        "#Key Characteristics of Generators:\n",
        "1.Lazy Evaluation:\n",
        "- Generators do not compute all values at once. They generate values one at a time only when requested, which makes them memory-efficient.\n",
        "2.State Retention:\n",
        "- Generators can pause execution and resume from where they left off. They remember their state between successive calls.\n",
        "3.One-time Use:\n",
        "- A generator can only be iterated over once. After all values are consumed, the generator cannot be reused unless created again.\n",
        "\n",
        "#How Generators are Defined:\n",
        "Generators can be defined in two main ways:\n",
        "\n",
        "- Using a Generator Function (with yield statement)\n",
        "- Using Generator Expressions\n",
        "\n",
        "1. Generator Function (using yield)\n",
        "A generator function is a function that uses the yield statement to produce a value, then pauses and retains the function’s state. Each time the generator is iterated over, execution resumes from where it left off, continuing until it reaches the next yield or the end of the function.\n",
        "\n",
        "#Syntax:\n",
        "python\n",
        "Copy code\n",
        "def generator_function():\n",
        "    yield value\n",
        "#Example of a Generator Function:\n",
        "python\n",
        "Copy code\n",
        "def count_up_to(max):\n",
        "    count = 1\n",
        "    while count <= max:\n",
        "        yield count  # Yield value and pause execution\n",
        "        count += 1\n",
        "\n",
        "# Create a generator\n",
        "counter = count_up_to(5)\n",
        "\n",
        "# Iterate over the generator\n",
        "for num in counter:\n",
        "    print(num)\n",
        "\n",
        "Output:\n",
        "\n",
        "Copy code\n",
        "1\n",
        "2\n",
        "3\n",
        "4\n",
        "5\n",
        "\n",
        "#Explanation:\n",
        "- The function count_up_to generates values from 1 to max. Each time the yield statement is executed, the function pauses, returning the current value to the caller.\n",
        "- The function's state (e.g., count) is preserved, so the next time the generator is called, it resumes where it left off.\n",
        "\n",
        "2. Generator Expressions\n",
        "Generator expressions are a more concise way of defining a generator without using a full function. They are similar to list comprehensions but produce a generator rather than a list.\n",
        "\n",
        "#Syntax:\n",
        "python\n",
        "Copy code\n",
        "(generator_expression)\n",
        "\n",
        "#Example of a Generator Expression:\n",
        "python\n",
        "Copy code\n",
        "# Create a generator expression\n",
        "squares = (x * x for x in range(1, 6))\n",
        "\n",
        "# Iterate over the generator\n",
        "for square in squares:\n",
        "    print(square)\n",
        "\n",
        "Output:\n",
        "\n",
        "Copy code\n",
        "1\n",
        "4\n",
        "9\n",
        "16\n",
        "25\n",
        "\n",
        "#Key Points about yield:\n",
        "- The yield statement is used to return a value from the generator function and pause its execution.\n",
        "- When the generator is iterated again, it resumes execution from the point after the yield statement.\n",
        "- A generator function can have multiple yield statements, and each time yield is called, the function pauses and produces a new value.\n",
        "\n",
        "#Advantages of Generators:\n",
        "1.Memory Efficiency:\n",
        "\n",
        "- Since values are produced only when requested (lazily), generators are much more memory-efficient than lists, especially for large datasets or infinite sequences.\n",
        "\n",
        "2.Lazy Evaluation:\n",
        "\n",
        "- This on-demand generation of values means the program doesn't need to calculate or store the entire sequence at once, which can improve performance.\n",
        "\n",
        "3.Stateful Iteration:\n",
        "\n",
        "- Generators retain their state between successive calls, allowing complex stateful iteration without needing to manage state explicitly.\n",
        "\n",
        "#Generator vs Iterator:\n",
        "While both generators and iterators are used for iteration, they differ in how they are defined:\n",
        "\n",
        "Feature\t                                   Generator\t                                                Iterator\n",
        "\n",
        "Creation\t            Defined using yield or generator expression.\t                          Created using iter() on an iterable.\n",
        "Memory Efficiency\t    More memory efficient as they generate values one at a time.\t          Typically stores all items in memory.\n",
        "State\t                Retains its state across successive calls.\t                            Requires explicit state management.\n",
        "Use\t                  Useful for large datasets, streaming data, or infinite sequences.\t      Suitable for any iterable, but requires storing data in memory.\n",
        "\n",
        "#Summary:\n",
        "- Generators are iterators that produce values one at a time and retain their state, making them ideal for memory-efficient and lazy evaluation of large or infinite sequences.\n",
        "- Generator functions use yield to return values, while generator expressions are concise, one-liner alternatives."
      ],
      "metadata": {
        "id": "t69ZMqw-S7C3"
      },
      "execution_count": null,
      "outputs": []
    },
    {
      "cell_type": "markdown",
      "source": [
        "#7.What are the advantages of using generators over regular functions?"
      ],
      "metadata": {
        "id": "jxmi6hoKVfkV"
      }
    },
    {
      "cell_type": "code",
      "source": [
        "#Advantages of Using Generators Over Regular Functions in Python\n",
        "Generators provide several key benefits over regular functions that can make them more efficient, especially when dealing with large datasets or sequences. Here's a breakdown of the main advantages:\n",
        "\n",
        "1. Memory Efficiency\n",
        "- Generators produce values lazily, meaning they generate values on-the-fly as they are requested and don’t store them in memory. This is especially useful for large datasets or infinite sequences, as it reduces the memory footprint.\n",
        "- Regular functions that return collections like lists will generate all values at once and store them in memory, which can quickly become inefficient when dealing with large data.\n",
        "Example:\n",
        "python\n",
        "Copy code\n",
        "def large_data():\n",
        "    for i in range(10**6):  # Generating a large range of numbers\n",
        "        yield i  # Only one number is in memory at a time\n",
        "\n",
        "gen = large_data()  # Generator does not load all numbers at once\n",
        "\n",
        "2. Lazy Evaluation\n",
        "- Generators use lazy evaluation, which means they only generate and return the next item in the sequence when it’s requested. This can make programs faster, as values are computed only when needed, and the rest of the sequence is not generated until required.\n",
        "- Regular functions (like returning a list) generate all values upfront, which can be wasteful if only part of the data is needed.\n",
        "Example:\n",
        "python\n",
        "Copy code\n",
        "def square_numbers(limit):\n",
        "    for i in range(limit):\n",
        "        yield i * i  # Lazily return squares of numbers\n",
        "\n",
        "gen = square_numbers(100)  # Values are generated only as requested\n",
        "\n",
        "3. Reduced CPU Time\n",
        "- Generators reduce the time spent on processing and calculating values. Since they don’t compute and store everything upfront, the initial execution is much faster.\n",
        "- Regular functions that return large collections may spend significant time calculating all values at once.\n",
        "\n",
        "4. State Retention Between Calls\n",
        "- Generators maintain their state between successive calls, allowing them to pause execution at a yield statement and resume later from where they left off. This makes it easier to handle tasks like looping through a sequence, without needing to re-compute or re-fetch values.\n",
        "- Regular functions that return collections would need to perform the entire computation again each time they are called, unless state is explicitly managed outside the function.\n",
        "Example:\n",
        "python\n",
        "Copy code\n",
        "def count_up_to(n):\n",
        "    count = 1\n",
        "    while count <= n:\n",
        "        yield count\n",
        "        count += 1\n",
        "\n",
        "counter = count_up_to(3)\n",
        "print(next(counter))  # Output: 1\n",
        "print(next(counter))  # Output: 2 (resumes from where it left off)\n",
        "\n",
        "5. Infinite Sequences\n",
        "- Generators are ideal for handling infinite sequences because they generate values only when needed, and the program doesn’t need to store the entire sequence in memory.\n",
        "- Regular functions cannot handle infinite sequences efficiently, as they would require infinite memory and storage.\n",
        "#Example of Infinite Sequence with Generator:\n",
        "python\n",
        "Copy code\n",
        "def infinite_counter():\n",
        "    count = 1\n",
        "    while True:\n",
        "        yield count\n",
        "        count += 1\n",
        "\n",
        "gen = infinite_counter()\n",
        "for i in gen:\n",
        "    if i > 5:  # This loop will stop after generating 5 numbers\n",
        "        break\n",
        "    print(i)\n",
        "\n",
        "6. Cleaner and More Pythonic Code\n",
        "- Generators lead to cleaner code when compared to manually handling iteration or managing state in regular functions. The yield statement makes it easier to define functions that return one value at a time, without having to deal with lists or other data structures.\n",
        "- Regular functions that need to return large collections require explicit collection handling (e.g., appending to a list), which makes the code longer and more complex.\n",
        "Example:\n",
        "With a generator:\n",
        "python\n",
        "Copy code\n",
        "def even_numbers(limit):\n",
        "    for i in range(limit):\n",
        "        if i % 2 == 0:\n",
        "            yield i\n",
        "Without a generator:\n",
        "python\n",
        "Copy code\n",
        "def even_numbers(limit):\n",
        "    result = []\n",
        "    for i in range(limit):\n",
        "        if i % 2 == 0:\n",
        "            result.append(i)\n",
        "    return result\n",
        "\n",
        "7. Improved Performance in Large Iterations\n",
        "- Generators can improve performance when iterating over large datasets or performing expensive operations since they don’t create intermediate structures and perform computations on-demand.\n",
        "- Regular functions that return complete data structures (like lists) must compute everything upfront, which might impact performance, especially with large datasets.\n",
        "\n",
        "#Summary of Advantages:\n",
        "\n",
        "Feature\t                                                                 Generators\t                                                            Regular Functions\n",
        "Memory Usage\t                                       Low memory usage, generates values lazily\t                                     High memory usage, stores the entire result\n",
        "Execution Time\t                                     Faster execution for large or infinite data\t                                   Slower, as it computes and stores all values\n",
        "State Management\t                                   Automatically retains state across calls\t                                       Requires manual state management\n",
        "Infinite Sequences\t                                 Can handle infinite sequences easily                                           \tCannot handle infinite sequences efficiently\n",
        "Code Simplicity\t                                     More concise and cleaner code\t                                                  Requires more boilerplate and management\n",
        "\n",
        "#Conclusion:\n",
        "Generators are ideal for scenarios where you need memory-efficient, lazy evaluation and the ability to work with potentially large or infinite sequences of data. They offer improved performance and cleaner code compared to regular functions that return full collections.\n"
      ],
      "metadata": {
        "id": "FFUqosexWfJ3"
      },
      "execution_count": null,
      "outputs": []
    },
    {
      "cell_type": "markdown",
      "source": [
        "#8. What is a lambda function in Python and when is it typically used?"
      ],
      "metadata": {
        "id": "DAk_Nrl7Yxci"
      }
    },
    {
      "cell_type": "code",
      "source": [
        "#Lambda Function in Python\n",
        "A lambda function in Python is a small, anonymous function defined using the lambda keyword. Unlike regular functions defined with the def keyword, lambda functions are concise, single-expression functions that are not bound to a name (though they can be assigned to a variable). They are typically used when a simple function is needed for a short period, often as an argument to higher-order functions like map(), filter(), and sorted().\n",
        "\n",
        "#Syntax of a Lambda Function:\n",
        "python\n",
        "Copy code\n",
        "lambda arguments: expression\n",
        "- lambda is the keyword that defines the function.\n",
        "- arguments are the parameters that the function accepts (just like regular functions).\n",
        "- expression is a single expression that the function evaluates and returns.\n",
        "\n",
        "#Example of a Lambda Function:\n",
        "python\n",
        "Copy code\n",
        "# A simple lambda function that adds 10 to a given number\n",
        "add_ten = lambda x: x + 10\n",
        "\n",
        "# Using the lambda function\n",
        "print(add_ten(5))  # Output: 15\n",
        "\n",
        "#Key Features of Lambda Functions:\n",
        "1.Anonymous: Lambda functions are often used without assigning them to a variable.\n",
        "2.Concise: Lambda functions are typically written in a single line.\n",
        "3.Single Expression: The body of a lambda function must contain a single expression. It cannot contain statements like loops or multiple expressions.\n",
        "4.Return Value: The result of the expression is automatically returned by the lambda function, so you do not need a return statement.\n",
        "\n",
        "#When Are Lambda Functions Typically Used?\n",
        "Lambda functions are commonly used in situations where:\n",
        "\n",
        "1.Short, one-off functions are required.\n",
        "2.You want to pass a simple function as an argument to functions like map(), filter(), sorted(), and reduce().\n",
        "3.You need a function for a brief, temporary task, and don’t want to define a full function using def.\n",
        "\n",
        "#Common Use Cases of Lambda Functions:\n",
        "1.Sorting a List of Tuples by the Second Element:\n",
        "\n",
        "- Using a lambda function to specify a key for sorting.\n",
        "python\n",
        "Copy code\n",
        "tuples = [(1, 'apple'), (3, 'banana'), (2, 'cherry')]\n",
        "sorted_tuples = sorted(tuples, key=lambda x: x[1])  # Sort by second element (fruit name)\n",
        "print(sorted_tuples)\n",
        "\n",
        "Output:\n",
        "\n",
        "css\n",
        "Copy code\n",
        "[(1, 'apple'), (3, 'banana'), (2, 'cherry')]\n",
        "\n",
        "2.Using map() to Apply a Function to Each Element:\n",
        "\n",
        "- Apply a function to all elements of an iterable.\n",
        "python\n",
        "Copy code\n",
        "numbers = [1, 2, 3, 4, 5]\n",
        "squared_numbers = list(map(lambda x: x ** 2, numbers))\n",
        "print(squared_numbers)  # Output: [1, 4, 9, 16, 25]\n",
        "\n",
        "3.Using filter() to Filter Elements Based on a Condition:\n",
        "\n",
        "- Filter elements based on a condition.\n",
        "python\n",
        "Copy code\n",
        "numbers = [1, 2, 3, 4, 5, 6]\n",
        "even_numbers = list(filter(lambda x: x % 2 == 0, numbers))\n",
        "print(even_numbers)  # Output: [2, 4, 6]\n",
        "\n",
        "4.Using reduce() to Accumulate Results:\n",
        "\n",
        "- Applying a function cumulatively to the elements of an iterable, reducing the iterable to a single result.\n",
        "python\n",
        "Copy code\n",
        "from functools import reduce\n",
        "numbers = [1, 2, 3, 4]\n",
        "result = reduce(lambda x, y: x + y, numbers)\n",
        "print(result)  # Output: 10 (1+2+3+4)\n",
        "\n",
        "#Advantages of Lambda Functions:\n",
        "- Conciseness: They allow you to define simple functions in a single line.\n",
        "- Functional Programming: Lambda functions are heavily used in functional programming paradigms in Python, where functions are passed as arguments.\n",
        "- Flexibility: They can be used inline and don’t require the overhead of defining a function with a name using def.\n",
        "\n",
        "#Disadvantages of Lambda Functions:\n",
        "- Limited Readability: For complex functions, using lambda can make code harder to read compared to using a named function.\n",
        "- Single Expression: Lambda functions can only contain a single expression and no statements (like loops or conditionals). This limits their complexity.\n",
        "\n",
        "#Summary:\n",
        "- A lambda function is a small, anonymous function defined with lambda.\n",
        "- It can take any number of arguments but must have a single expression.\n",
        "- Typical Use Cases: Lambda functions are ideal for short, one-off tasks and are commonly used in functions like map(), filter(), and sorted().\n",
        "- Advantages: They provide a concise, functional programming approach, and are especially useful for passing simple functions as arguments.\n"
      ],
      "metadata": {
        "id": "I71mkVlcZOH4"
      },
      "execution_count": null,
      "outputs": []
    },
    {
      "cell_type": "markdown",
      "source": [
        "#9.Explain the purpose and usage of the `map()` function in Python."
      ],
      "metadata": {
        "id": "opJSQZhwaZ2A"
      }
    },
    {
      "cell_type": "code",
      "source": [
        "#Purpose and Usage of the map() Function in Python\n",
        "The map() function in Python is a built-in function that allows you to apply a given function to all items in an iterable (such as a list, tuple, etc.) and returns an iterator (which can be converted into other data structures like lists, tuples, etc.). It is often used for transforming data in an iterable.\n",
        "\n",
        "#Syntax of map() Function:\n",
        "python\n",
        "Copy code\n",
        "map(function, iterable, ...)\n",
        "- function: The function to apply to each element of the iterable. This can be a named function, a lambda function, or any callable.\n",
        "- iterable: An iterable (like a list, tuple, etc.) whose elements the function will process. You can pass more than one iterable (like map(func, iterable1, iterable2, ...)), and the function will be applied to elements from each iterable in parallel (element-wise).\n",
        "#Return Value:\n",
        "- The map() function returns an iterator that applies the function to each item in the iterable(s). To see the results, you can convert the iterator into a list, tuple, or another data structure.\n",
        "#Basic Example of Using map()\n",
        "Here's a simple example where we use map() to apply a function to each item in a list:\n",
        "\n",
        "python\n",
        "Copy code\n",
        "# Define a function that doubles a number\n",
        "def double(x):\n",
        "    return x * 2\n",
        "\n",
        "# List of numbers\n",
        "numbers = [1, 2, 3, 4, 5]\n",
        "\n",
        "# Apply the 'double' function to each element in the list using map\n",
        "doubled_numbers = map(double, numbers)\n",
        "\n",
        "# Convert the result to a list and print it\n",
        "print(list(doubled_numbers))  # Output: [2, 4, 6, 8, 10]\n",
        "\n",
        "#Using Lambda with map()\n",
        "Instead of defining a separate function like double(), you can use a lambda function directly in the map() function to make the code more concise:\n",
        "\n",
        "python\n",
        "Copy code\n",
        "numbers = [1, 2, 3, 4, 5]\n",
        "\n",
        "# Use lambda to double each number\n",
        "doubled_numbers = map(lambda x: x * 2, numbers)\n",
        "\n",
        "# Convert to list and print\n",
        "print(list(doubled_numbers))  # Output: [2, 4, 6, 8, 10]\n",
        "\n",
        "#Using map() with Multiple Iterables\n",
        "You can pass multiple iterables to map(). The function will apply the given function to the items from each iterable in parallel. The function should accept as many arguments as there are iterables.\n",
        "\n",
        "python\n",
        "Copy code\n",
        "# Two lists of numbers\n",
        "list1 = [1, 2, 3]\n",
        "list2 = [10, 20, 30]\n",
        "\n",
        "# Use map to add corresponding elements from both lists\n",
        "result = map(lambda x, y: x + y, list1, list2)\n",
        "\n",
        "# Convert to list and print\n",
        "print(list(result))  # Output: [11, 22, 33]\n",
        "In this example, the function lambda x, y: x + y adds corresponding elements from list1 and list2.\n",
        "\n",
        "#Common Use Cases for map()\n",
        "1.Transforming Data: You can use map() to apply any transformation to each element in an iterable, such as performing mathematical operations, formatting strings, etc.\n",
        "\n",
        "Example:\n",
        "\n",
        "python\n",
        "Copy code\n",
        "words = ['apple', 'banana', 'cherry']\n",
        "uppercase_words = map(lambda word: word.upper(), words)\n",
        "print(list(uppercase_words))  # Output: ['APPLE', 'BANANA', 'CHERRY']\n",
        "\n",
        "2.Combining Elements from Multiple Iterables: When you have multiple iterables, you can combine them element by element, applying a function to them. This is useful for processing parallel data.\n",
        "\n",
        "Example:\n",
        "\n",
        "python\n",
        "Copy code\n",
        "names = ['John', 'Alice', 'Bob']\n",
        "scores = [85, 92, 78]\n",
        "\n",
        "# Combine names and scores into a string like \"John: 85\"\n",
        "combined = map(lambda name, score: f'{name}: {score}', names, scores)\n",
        "print(list(combined))  # Output: ['John: 85', 'Alice: 92', 'Bob: 78']\n",
        "\n",
        "#Complex Calculations: You can apply more complex functions to each element of the iterable, such as converting temperatures, calculating areas, etc.\n",
        "\n",
        "Example:\n",
        "\n",
        "python\n",
        "Copy code\n",
        "celsius = [0, 20, 30, 40, 100]\n",
        "fahrenheit = map(lambda c: (c * 9/5) + 32, celsius)\n",
        "print(list(fahrenheit))  # Output: [32.0, 68.0, 86.0, 104.0, 212.0]\n",
        "\n",
        "#Advantages of Using map()\n",
        "- Concise and Readable: map() can make code more concise, especially when applying a simple function to each element in a list or iterable.\n",
        "- Functional Programming: It allows you to write more functional-style code by passing functions as arguments.\n",
        "- Performance: map() is often faster than using a loop for large datasets since it is implemented in C internally and optimized for performance.\n",
        "\n",
        "#When Not to Use map()\n",
        "- If the transformation requires a complex or multi-step operation, it might be better to use a regular loop or a more explicit function rather than trying to fit everything into a lambda function.\n",
        "- For readability purposes, if the logic inside the map() is too complicated, using a regular for loop might be more understandable for other programmers.\n",
        "\n",
        "#Summary\n",
        "- The map() function in Python applies a given function to each item in an iterable (or multiple iterables) and returns an iterator with the results.\n",
        "- It is typically used for transforming data and performing operations on each element of an iterable.\n",
        "- map() can be used with regular functions or lambda functions, and it allows you to handle multiple iterables simultaneously."
      ],
      "metadata": {
        "id": "7WFQ9GRuatpg"
      },
      "execution_count": null,
      "outputs": []
    },
    {
      "cell_type": "markdown",
      "source": [
        "#10. What is the difference between `map()`, `reduce()`, and `filter()` functions in Python?"
      ],
      "metadata": {
        "id": "hm_lxxsPcGM5"
      }
    },
    {
      "cell_type": "code",
      "source": [
        "The functions map(), reduce(), and filter() are all commonly used in Python for functional programming, and they share some similarities but also have key differences. They allow you to apply a function to iterables, but each function has its specific behavior and purpose.\n",
        "\n",
        "Here’s a breakdown of the differences between map(), reduce(), and filter():\n",
        "\n",
        "1. map() Function:\n",
        "Purpose: The map() function is used to apply a given function to all items in an iterable (like a list, tuple, etc.) and return an iterator of the results.\n",
        "\n",
        "- Returns: An iterator (which can be converted to a list or other iterable).\n",
        "- Use Case: When you want to apply a function to each element in the iterable and get a transformed iterable in return.\n",
        "Syntax:\n",
        "\n",
        "python\n",
        "Copy code\n",
        "map(function, iterable, ...)\n",
        "- function: The function to apply to each element.\n",
        "- iterable: The iterable (or multiple iterables) to process.\n",
        "Example:\n",
        "\n",
        "python\n",
        "Copy code\n",
        "numbers = [1, 2, 3, 4]\n",
        "doubled_numbers = map(lambda x: x * 2, numbers)\n",
        "print(list(doubled_numbers))  # Output: [2, 4, 6, 8]\n",
        "\n",
        "2. reduce() Function:\n",
        "Purpose: The reduce() function, from the functools module, is used to apply a function cumulatively to the items of an iterable, reducing it to a single result.\n",
        "\n",
        "- Returns: A single value that results from applying the function cumulatively across all items in the iterable.\n",
        "- Use Case: When you want to reduce an iterable to a single value (e.g., summing up all elements, finding a maximum, etc.).\n",
        "Syntax:\n",
        "\n",
        "python\n",
        "Copy code\n",
        "from functools import reduce\n",
        "reduce(function, iterable, [initializer])\n",
        "- function: The function that takes two arguments and combines them.\n",
        "- iterable: The iterable whose elements will be processed.\n",
        "- initializer (optional): A starting value for the reduction (if not provided, the first element of the iterable is used).\n",
        "Example:\n",
        "\n",
        "python\n",
        "Copy code\n",
        "from functools import reduce\n",
        "\n",
        "numbers = [1, 2, 3, 4]\n",
        "sum_result = reduce(lambda x, y: x + y, numbers)\n",
        "print(sum_result)  # Output: 10 (1 + 2 + 3 + 4)\n",
        "\n",
        "3. filter() Function:\n",
        "Purpose: The filter() function is used to filter the elements from an iterable by applying a function that returns True or False. Only the elements where the function returns True are included in the result.\n",
        "\n",
        "- Returns: An iterator containing elements that satisfy the condition (i.e., where the function returns True).\n",
        "- Use Case: When you want to filter elements based on a condition.\n",
        "Syntax:\n",
        "\n",
        "python\n",
        "Copy code\n",
        "filter(function, iterable)\n",
        "- function: A function that returns either True or False for each element of the iterable.\n",
        "- iterable: The iterable whose elements are to be filtered.\n",
        "Example:\n",
        "\n",
        "python\n",
        "Copy code\n",
        "numbers = [1, 2, 3, 4, 5, 6]\n",
        "even_numbers = filter(lambda x: x % 2 == 0, numbers)\n",
        "print(list(even_numbers))  # Output: [2, 4, 6]\n",
        "\n",
        "#Key Differences:\n",
        "Feature\t                                    map()\t                                    reduce()\t                                                                 filter()\n",
        "\n",
        "Purpose           \tApply a function to each element.             \t               Apply a function cumulatively to reduce it to a single value.            \tApply a function to filter elements.\n",
        "Input\t              A single iterable (or multiple iterables).\t                   A single iterable.\t                                                       A single iterable.\n",
        "Output\t            An iterable (like a list or iterator).\t                       A single value (reduced result).\t                                         An iterable with filtered elements.\n",
        "When to Use\t        When you need to transform every element in an iterable.\t     When you need to combine or reduce all elements to a single result.\t     When you need to select certain elements based on a condition.\n",
        "Example\t            Doubling each element.\t                                       Calculating the sum of all elements.\t                                     Filtering out even numbers.\n",
        "Common Use\t        Transforming data.\t                                           Accumulating results (e.g., summing, multiplying).\t                     Filtering based on conditions (e.g., removing invalid items).\n",
        "\n",
        "#Example Comparison:\n",
        "1.Using map() to Square Each Number:\n",
        "\n",
        "python\n",
        "Copy code\n",
        "numbers = [1, 2, 3, 4]\n",
        "squared = map(lambda x: x ** 2, numbers)\n",
        "print(list(squared))  # Output: [1, 4, 9, 16]\n",
        "\n",
        "2.Using reduce() to Find the Product of All Numbers:\n",
        "\n",
        "python\n",
        "Copy code\n",
        "from functools import reduce\n",
        "numbers = [1, 2, 3, 4]\n",
        "product = reduce(lambda x, y: x * y, numbers)\n",
        "print(product)  # Output: 24 (1 * 2 * 3 * 4)\n",
        "\n",
        "3.Using filter() to Get Even Numbers:\n",
        "\n",
        "python\n",
        "Copy code\n",
        "numbers = [1, 2, 3, 4, 5, 6]\n",
        "even_numbers = filter(lambda x: x % 2 == 0, numbers)\n",
        "print(list(even_numbers))  # Output: [2, 4, 6]\n",
        "\n",
        "#Summary:\n",
        "- map() applies a function to each element of an iterable and returns an iterable of the transformed results.\n",
        "- reduce() applies a function cumulatively to the items of an iterable to reduce them to a single value.\n",
        "- filter() applies a function to each element of an iterable and returns an iterable of elements for which the function returns True.\n",
        "Each of these functions is powerful for different types of operations, and they are often used together in Python for efficient and readable functional programming.\n"
      ],
      "metadata": {
        "id": "7gJ5a7hxcbEs"
      },
      "execution_count": null,
      "outputs": []
    },
    {
      "cell_type": "markdown",
      "source": [
        "#11. Using pen & Paper write the internal mechanism for sum operation using  reduce function on this given list:[47,11,42,13]; ?"
      ],
      "metadata": {
        "id": "VygsC9dyfUvh"
      }
    },
    {
      "cell_type": "code",
      "source": [
        "Sure! Let's break down the internal mechanism of the reduce() function for performing a sum operation on the list [47, 11, 42, 13] using pen-and-paper-style steps.\n",
        "\n",
        "#Step 1: Understanding reduce() for Sum Operation\n",
        "The reduce() function is applied cumulatively to the elements of an iterable. The function accepts two arguments:\n",
        "\n",
        "- A binary function (a function that takes two arguments).\n",
        "- An iterable (the list of numbers).\n",
        "In our case, we're using the lambda x, y: x + y function to sum the elements of the list [47, 11, 42, 13].\n",
        "\n",
        "#Step 2: Setting Up the reduce() Operation\n",
        "python\n",
        "Copy code\n",
        "from functools import reduce\n",
        "numbers = [47, 11, 42, 13]\n",
        "sum_result = reduce(lambda x, y: x + y, numbers)\n",
        "The reduce() function will apply the lambda function to the list in the following manner:\n",
        "\n",
        "#Step 3: Breaking Down the Internal Mechanism\n",
        "1.Initial State: The iterable is [47, 11, 42, 13]. The initial function is lambda x, y: x + y, and reduce() starts by taking the first two elements of the list, 47 and 11.\n",
        "\n",
        "2.Step 1:\n",
        "\n",
        "- First, lambda(47, 11) is called.\n",
        "- 47 + 11 = 58\n",
        "- Now, the result (58) becomes the new x.\n",
        "\n",
        "3.Step 2:\n",
        "\n",
        "- Next, the function is applied to the result (58) and the next element in the list (42).\n",
        "- lambda(58, 42) is called.\n",
        "- 58 + 42 = 100\n",
        "The result (100) becomes the new x.\n",
        "\n",
        "4.Step 3:\n",
        "\n",
        "- Next, lambda(100, 13) is called with the result (100) and the last element in the list (13).\n",
        "- 100 + 13 = 113\n",
        "- The result (113) is the final sum.\n",
        "\n",
        "#Final Result:\n",
        "After applying the lambda function cumulatively across all the elements in the list, the result of the reduce() function is 113.\n",
        "\n",
        "#Step-by-Step Visualization:\n",
        "yaml\n",
        "Copy code\n",
        "Initial list: [47, 11, 42, 13]\n",
        "\n",
        "Step 1: (47 + 11) = 58\n",
        "Step 2: (58 + 42) = 100\n",
        "Step 3: (100 + 13) = 113\n",
        "\n",
        "Final result: 113\n",
        "Thus, the sum of the elements in the list [47, 11, 42, 13] using reduce() is 113."
      ],
      "metadata": {
        "id": "6N2uAzJbfu0n"
      },
      "execution_count": null,
      "outputs": []
    },
    {
      "cell_type": "markdown",
      "source": [
        "**PRACTICAL QUESTIONS**"
      ],
      "metadata": {
        "id": "rgSvBUNihPB6"
      }
    },
    {
      "cell_type": "markdown",
      "source": [
        "#1. Write a Python function that takes a list of numbers as input and returns the sum of all even numbers in the list.\n",
        "\n"
      ],
      "metadata": {
        "id": "-l1Z6Pu5hcqP"
      }
    },
    {
      "cell_type": "code",
      "source": [
        "def sum_of_even_numbers(numbers):\n",
        "    # Use list comprehension to filter out even numbers and sum them\n",
        "    return sum(num for num in numbers if num % 2 == 0)\n",
        "\n",
        "# Example usage\n",
        "numbers = [47, 11, 42, 13, 8, 20]\n",
        "result = sum_of_even_numbers(numbers)\n",
        "print(f\"The sum of even numbers is: {result}\")"
      ],
      "metadata": {
        "colab": {
          "base_uri": "https://localhost:8080/"
        },
        "id": "VgrbPGIzhmtD",
        "outputId": "ea4155a5-4fd8-4a88-8777-537709ae4bb2"
      },
      "execution_count": 1,
      "outputs": [
        {
          "output_type": "stream",
          "name": "stdout",
          "text": [
            "The sum of even numbers is: 70\n"
          ]
        }
      ]
    },
    {
      "cell_type": "markdown",
      "source": [
        "#2.Create a Python function that accepts a string and returns the reverse of that string."
      ],
      "metadata": {
        "id": "hgeGoC4ChyG7"
      }
    },
    {
      "cell_type": "code",
      "source": [
        "def reverse_string(input_string):\n",
        "    # Return the reversed string using slicing\n",
        "    return input_string[::-1]\n",
        "\n",
        "# Example usage\n",
        "string = \"hello\"\n",
        "reversed_string = reverse_string(string)\n",
        "print(f\"The reversed string is: {reversed_string}\")"
      ],
      "metadata": {
        "colab": {
          "base_uri": "https://localhost:8080/"
        },
        "id": "Vckjqq5biE9W",
        "outputId": "7a668ec5-2b28-49e9-bb75-8b033d0a1fd5"
      },
      "execution_count": 2,
      "outputs": [
        {
          "output_type": "stream",
          "name": "stdout",
          "text": [
            "The reversed string is: olleh\n"
          ]
        }
      ]
    },
    {
      "cell_type": "markdown",
      "source": [
        "#3. Implement a Python function that takes a list of integers and returns a new list containing the squares of each number."
      ],
      "metadata": {
        "id": "wZ5oBpUciMUU"
      }
    },
    {
      "cell_type": "code",
      "source": [
        "def square_numbers(numbers):\n",
        "    # Use list comprehension to square each number in the list\n",
        "    return [num ** 2 for num in numbers]\n",
        "\n",
        "# Example usage\n",
        "numbers = [1, 2, 3, 4, 5]\n",
        "squared_numbers = square_numbers(numbers)\n",
        "print(f\"The squared numbers are: {squared_numbers}\")"
      ],
      "metadata": {
        "colab": {
          "base_uri": "https://localhost:8080/"
        },
        "id": "P_IimSM0iTiS",
        "outputId": "1160906d-fadb-48e2-b604-6ee42d8ff1ff"
      },
      "execution_count": 3,
      "outputs": [
        {
          "output_type": "stream",
          "name": "stdout",
          "text": [
            "The squared numbers are: [1, 4, 9, 16, 25]\n"
          ]
        }
      ]
    },
    {
      "cell_type": "markdown",
      "source": [
        "#4. Write a Python function that checks if a given number is prime or not from 1 to 200 ."
      ],
      "metadata": {
        "id": "q8AlOswCiZhk"
      }
    },
    {
      "cell_type": "code",
      "source": [
        "def is_prime(number):\n",
        "    if number <= 1:\n",
        "        return False\n",
        "    for i in range(2, int(number**0.5) + 1):  # Check divisibility up to the square root of the number\n",
        "        if number % i == 0:\n",
        "            return False\n",
        "    return True\n",
        "\n",
        "# Function to check prime numbers between 1 and 200\n",
        "def prime_numbers_up_to_200():\n",
        "    primes = []\n",
        "    for num in range(1, 201):  # Loop through numbers from 1 to 200\n",
        "        if is_prime(num):\n",
        "            primes.append(num)\n",
        "    return primes\n",
        "\n",
        "# Example usage\n",
        "prime_numbers = prime_numbers_up_to_200()\n",
        "print(f\"Prime numbers from 1 to 200: {prime_numbers}\")"
      ],
      "metadata": {
        "colab": {
          "base_uri": "https://localhost:8080/"
        },
        "id": "bb3bgFFjigK-",
        "outputId": "6c1f7c27-801a-4d1c-85b1-7327aea66eb4"
      },
      "execution_count": 4,
      "outputs": [
        {
          "output_type": "stream",
          "name": "stdout",
          "text": [
            "Prime numbers from 1 to 200: [2, 3, 5, 7, 11, 13, 17, 19, 23, 29, 31, 37, 41, 43, 47, 53, 59, 61, 67, 71, 73, 79, 83, 89, 97, 101, 103, 107, 109, 113, 127, 131, 137, 139, 149, 151, 157, 163, 167, 173, 179, 181, 191, 193, 197, 199]\n"
          ]
        }
      ]
    },
    {
      "cell_type": "markdown",
      "source": [
        "#5.Create an iterator class in Python that generates the Fibonacci sequence up to a specified number of terms.\n",
        "\n"
      ],
      "metadata": {
        "id": "b-R2ytUYis2Z"
      }
    },
    {
      "cell_type": "code",
      "source": [
        "class FibonacciIterator:\n",
        "    def __init__(self, n):\n",
        "        self.n = n  # Number of terms in the Fibonacci sequence\n",
        "        self.a, self.b = 0, 1  # First two numbers in the Fibonacci sequence\n",
        "        self.count = 0  # Counter to track the number of terms generated\n",
        "\n",
        "    def __iter__(self):\n",
        "        return self  # Return the iterator object itself\n",
        "\n",
        "    def __next__(self):\n",
        "        if self.count < self.n:\n",
        "            fibonacci_number = self.a\n",
        "            self.a, self.b = self.b, self.a + self.b  # Update to the next Fibonacci numbers\n",
        "            self.count += 1\n",
        "            return fibonacci_number\n",
        "        else:\n",
        "            raise StopIteration  # Stop the iteration once the specified number of terms is reached\n",
        "\n",
        "# Example usage\n",
        "n_terms = 10\n",
        "fibonacci_sequence = FibonacciIterator(n_terms)\n",
        "\n",
        "for number in fibonacci_sequence:\n",
        "    print(number)"
      ],
      "metadata": {
        "colab": {
          "base_uri": "https://localhost:8080/"
        },
        "id": "CVQQX1QNi70K",
        "outputId": "4fc10245-4842-45c2-8565-16351cd1c1c6"
      },
      "execution_count": 5,
      "outputs": [
        {
          "output_type": "stream",
          "name": "stdout",
          "text": [
            "0\n",
            "1\n",
            "1\n",
            "2\n",
            "3\n",
            "5\n",
            "8\n",
            "13\n",
            "21\n",
            "34\n"
          ]
        }
      ]
    },
    {
      "cell_type": "markdown",
      "source": [
        "#6.Write a generator function in Python that yields the powers of 2 up to a given exponent."
      ],
      "metadata": {
        "id": "3CDU5gZBjHTW"
      }
    },
    {
      "cell_type": "code",
      "source": [
        "def powers_of_two(exponent):\n",
        "    for i in range(exponent + 1):  # Iterate from 0 to the given exponent\n",
        "        yield 2 ** i  # Yield 2 raised to the power of i\n",
        "\n",
        "# Example usage\n",
        "exponent = 5\n",
        "for power in powers_of_two(exponent):\n",
        "    print(power)"
      ],
      "metadata": {
        "colab": {
          "base_uri": "https://localhost:8080/"
        },
        "id": "uJe4-m4IjLsY",
        "outputId": "a8c2b300-8099-4c27-f8c4-6bd2dd8ae379"
      },
      "execution_count": 6,
      "outputs": [
        {
          "output_type": "stream",
          "name": "stdout",
          "text": [
            "1\n",
            "2\n",
            "4\n",
            "8\n",
            "16\n",
            "32\n"
          ]
        }
      ]
    },
    {
      "cell_type": "markdown",
      "source": [
        "#7. Implement a generator function that reads a file line by line and yields each line as a string."
      ],
      "metadata": {
        "id": "flv_x4GQjSQi"
      }
    },
    {
      "cell_type": "code",
      "source": [
        "def read_file_line_by_line(file_path):\n",
        "    with open(file_path, 'r') as file:sample.txt\n",
        "        # Iterate over each line in the file\n",
        "        for line in file:\n",
        "            yield line  # Yield each line\n",
        "\n",
        "# Example usage\n",
        "file_path = 'sample.txt'  # Replace with the path to your file\n",
        "for line in read_file_line_by_line(file_path):\n",
        "    print(line, end='')  # Print each line, 'end' avoids adding an extra newline"
      ],
      "metadata": {
        "id": "R3EmPhbKm06Q"
      },
      "execution_count": null,
      "outputs": []
    },
    {
      "cell_type": "markdown",
      "source": [
        "#8.Use a lambda function in Python to sort a list of tuples based on the second element of each tuple."
      ],
      "metadata": {
        "id": "Ol-3pVgonahI"
      }
    },
    {
      "cell_type": "code",
      "source": [
        "# List of tuples\n",
        "tuples_list = [(1, 3), (4, 1), (2, 2), (5, 0)]\n",
        "\n",
        "# Sorting the list using lambda function based on the second element of each tuple\n",
        "sorted_list = sorted(tuples_list, key=lambda x: x[1])\n",
        "\n",
        "# Output the sorted list\n",
        "print(sorted_list)"
      ],
      "metadata": {
        "colab": {
          "base_uri": "https://localhost:8080/"
        },
        "id": "FSOAA7VlnpwL",
        "outputId": "2655e828-124c-444c-c3e9-a299b2bafe21"
      },
      "execution_count": 15,
      "outputs": [
        {
          "output_type": "stream",
          "name": "stdout",
          "text": [
            "[(5, 0), (4, 1), (2, 2), (1, 3)]\n"
          ]
        }
      ]
    },
    {
      "cell_type": "markdown",
      "source": [
        "#9. Write a Python program that uses `map()` to convert a list of temperatures from Celsius to Fahrenheit."
      ],
      "metadata": {
        "id": "U4oiGkdZnr7M"
      }
    },
    {
      "cell_type": "code",
      "source": [
        "# List of temperatures in Celsius\n",
        "celsius_temps = [0, 10, 20, 30, 40, 50]\n",
        "\n",
        "# Function to convert Celsius to Fahrenheit\n",
        "def celsius_to_fahrenheit(celsius):\n",
        "    return (celsius * 9/5) + 32\n",
        "\n",
        "# Using map() to apply the celsius_to_fahrenheit function to each element in the list\n",
        "fahrenheit_temps = list(map(celsius_to_fahrenheit, celsius_temps))\n",
        "\n",
        "# Output the converted temperatures\n",
        "print(f\"Temperatures in Fahrenheit: {fahrenheit_temps}\")"
      ],
      "metadata": {
        "colab": {
          "base_uri": "https://localhost:8080/"
        },
        "id": "IO8bzD2Pn89X",
        "outputId": "a6bbeac2-9e59-4904-83d6-5502dad1345b"
      },
      "execution_count": 16,
      "outputs": [
        {
          "output_type": "stream",
          "name": "stdout",
          "text": [
            "Temperatures in Fahrenheit: [32.0, 50.0, 68.0, 86.0, 104.0, 122.0]\n"
          ]
        }
      ]
    },
    {
      "cell_type": "markdown",
      "source": [
        "#10.. Create a Python program that uses `filter()` to remove all the vowels from a given string."
      ],
      "metadata": {
        "id": "exqbluysoIFb"
      }
    },
    {
      "cell_type": "code",
      "source": [
        "# Function to check if a character is not a vowel\n",
        "def is_not_vowel(char):\n",
        "    return char.lower() not in 'aeiou'\n",
        "\n",
        "# Input string\n",
        "input_string = \"Hello World\"\n",
        "\n",
        "# Using filter() to remove vowels from the string\n",
        "filtered_string = ''.join(filter(is_not_vowel, input_string))\n",
        "\n",
        "# Output the result\n",
        "print(f\"String without vowels: {filtered_string}\")"
      ],
      "metadata": {
        "colab": {
          "base_uri": "https://localhost:8080/"
        },
        "id": "BQicypTsoWXZ",
        "outputId": "f37c6880-1bf5-4995-aed4-105444f1fce4"
      },
      "execution_count": 17,
      "outputs": [
        {
          "output_type": "stream",
          "name": "stdout",
          "text": [
            "String without vowels: Hll Wrld\n"
          ]
        }
      ]
    }
  ]
}